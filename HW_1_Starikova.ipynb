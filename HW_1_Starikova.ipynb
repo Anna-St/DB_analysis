{
 "cells": [
  {
   "cell_type": "markdown",
   "metadata": {},
   "source": [
    "# ДЗ к Уроку 1"
   ]
  },
  {
   "cell_type": "markdown",
   "metadata": {},
   "source": [
    "## Практическое задание по клиентской аналитике \n",
    "1. Залить в свою БД данные по продажам (часть таблицы Orders в csv, исходник здесь https://drive.google.com/drive/folders/1C3HqIJcABblKM2tz8vPGiXTFT7MisrML?usp=sharing) \n",
    "2. Проанализировать, какой период данных выгружен \n",
    "3. Посчитать кол-во строк, кол-во заказов и кол-во уникальных пользователей, кот совершали заказы. \n",
    "4. По годам посчитать средний чек, среднее кол-во заказов на пользователя, сделать вывод , как изменялись это показатели Год от года. \n",
    "5. Найти кол-во пользователей, кот покупали в одном году и перестали покупать в следующем. \n",
    "6. Найти ID самого активного по кол-ву покупок пользователя."
   ]
  },
  {
   "cell_type": "markdown",
   "metadata": {},
   "source": [
    "### 1. Залить в свою БД данные по продажам"
   ]
  },
  {
   "cell_type": "code",
   "execution_count": 1,
   "metadata": {},
   "outputs": [],
   "source": [
    "import pandas as pd\n",
    "#import re"
   ]
  },
  {
   "cell_type": "code",
   "execution_count": 2,
   "metadata": {},
   "outputs": [],
   "source": [
    "df = pd.read_csv('D:/GeekBrains/Database for analytics/orders_20190822.csv', sep=\";\")"
   ]
  },
  {
   "cell_type": "code",
   "execution_count": 3,
   "metadata": {},
   "outputs": [
    {
     "name": "stdout",
     "output_type": "stream",
     "text": [
      "<class 'pandas.core.frame.DataFrame'>\n",
      "RangeIndex: 2002804 entries, 0 to 2002803\n",
      "Data columns (total 4 columns):\n",
      "id_o       int64\n",
      "user_id    int64\n",
      "price      object\n",
      "o_date     object\n",
      "dtypes: int64(2), object(2)\n",
      "memory usage: 61.1+ MB\n"
     ]
    }
   ],
   "source": [
    "df.info()"
   ]
  },
  {
   "cell_type": "code",
   "execution_count": 32,
   "metadata": {},
   "outputs": [],
   "source": [
    "df['o_date'] = df['o_date'].astype('datetime64[D]')"
   ]
  },
  {
   "cell_type": "code",
   "execution_count": 8,
   "metadata": {},
   "outputs": [],
   "source": [
    "df['price'] = [x.replace(',', '.') for x in df['price']]\n",
    "df['price'] = df['price'].astype(float)"
   ]
  },
  {
   "cell_type": "code",
   "execution_count": 40,
   "metadata": {},
   "outputs": [
    {
     "data": {
      "text/plain": [
       "<pandas.core.groupby.groupby.DataFrameGroupBy object at 0x000002206467CE48>"
      ]
     },
     "execution_count": 40,
     "metadata": {},
     "output_type": "execute_result"
    }
   ],
   "source": [
    "df.groupby(df['o_date'].dt.year)"
   ]
  },
  {
   "cell_type": "code",
   "execution_count": 36,
   "metadata": {},
   "outputs": [
    {
     "data": {
      "text/plain": [
       "0          2016\n",
       "1          2016\n",
       "2          2016\n",
       "3          2016\n",
       "4          2016\n",
       "5          2016\n",
       "6          2016\n",
       "7          2016\n",
       "8          2016\n",
       "9          2016\n",
       "10         2016\n",
       "11         2016\n",
       "12         2016\n",
       "13         2016\n",
       "14         2016\n",
       "15         2016\n",
       "16         2016\n",
       "17         2016\n",
       "18         2016\n",
       "19         2016\n",
       "20         2016\n",
       "21         2016\n",
       "22         2016\n",
       "23         2016\n",
       "24         2016\n",
       "25         2016\n",
       "26         2016\n",
       "27         2016\n",
       "28         2016\n",
       "29         2016\n",
       "           ... \n",
       "2002774    2017\n",
       "2002775    2017\n",
       "2002776    2017\n",
       "2002777    2017\n",
       "2002778    2017\n",
       "2002779    2017\n",
       "2002780    2017\n",
       "2002781    2017\n",
       "2002782    2017\n",
       "2002783    2017\n",
       "2002784    2017\n",
       "2002785    2017\n",
       "2002786    2017\n",
       "2002787    2017\n",
       "2002788    2017\n",
       "2002789    2017\n",
       "2002790    2017\n",
       "2002791    2017\n",
       "2002792    2017\n",
       "2002793    2017\n",
       "2002794    2017\n",
       "2002795    2017\n",
       "2002796    2017\n",
       "2002797    2017\n",
       "2002798    2017\n",
       "2002799    2017\n",
       "2002800    2017\n",
       "2002801    2017\n",
       "2002802    2017\n",
       "2002803    2017\n",
       "Name: o_date, Length: 2002804, dtype: int64"
      ]
     },
     "execution_count": 36,
     "metadata": {},
     "output_type": "execute_result"
    }
   ],
   "source": [
    "#df['o_date'].dt.year"
   ]
  },
  {
   "cell_type": "code",
   "execution_count": 9,
   "metadata": {},
   "outputs": [
    {
     "data": {
      "text/html": [
       "<div>\n",
       "<style scoped>\n",
       "    .dataframe tbody tr th:only-of-type {\n",
       "        vertical-align: middle;\n",
       "    }\n",
       "\n",
       "    .dataframe tbody tr th {\n",
       "        vertical-align: top;\n",
       "    }\n",
       "\n",
       "    .dataframe thead th {\n",
       "        text-align: right;\n",
       "    }\n",
       "</style>\n",
       "<table border=\"1\" class=\"dataframe\">\n",
       "  <thead>\n",
       "    <tr style=\"text-align: right;\">\n",
       "      <th></th>\n",
       "      <th>id_o</th>\n",
       "      <th>user_id</th>\n",
       "      <th>price</th>\n",
       "    </tr>\n",
       "  </thead>\n",
       "  <tbody>\n",
       "    <tr>\n",
       "      <th>count</th>\n",
       "      <td>2.002804e+06</td>\n",
       "      <td>2.002804e+06</td>\n",
       "      <td>2.002804e+06</td>\n",
       "    </tr>\n",
       "    <tr>\n",
       "      <th>mean</th>\n",
       "      <td>3.968491e+06</td>\n",
       "      <td>2.381755e+06</td>\n",
       "      <td>2.268164e+03</td>\n",
       "    </tr>\n",
       "    <tr>\n",
       "      <th>std</th>\n",
       "      <td>1.682212e+06</td>\n",
       "      <td>1.633211e+06</td>\n",
       "      <td>3.359283e+03</td>\n",
       "    </tr>\n",
       "    <tr>\n",
       "      <th>min</th>\n",
       "      <td>1.234491e+06</td>\n",
       "      <td>0.000000e+00</td>\n",
       "      <td>-1.848000e+02</td>\n",
       "    </tr>\n",
       "    <tr>\n",
       "      <th>25%</th>\n",
       "      <td>2.460856e+06</td>\n",
       "      <td>1.108048e+06</td>\n",
       "      <td>7.672000e+02</td>\n",
       "    </tr>\n",
       "    <tr>\n",
       "      <th>50%</th>\n",
       "      <td>3.978659e+06</td>\n",
       "      <td>2.028087e+06</td>\n",
       "      <td>1.441300e+03</td>\n",
       "    </tr>\n",
       "    <tr>\n",
       "      <th>75%</th>\n",
       "      <td>5.391492e+06</td>\n",
       "      <td>3.679133e+06</td>\n",
       "      <td>2.552900e+03</td>\n",
       "    </tr>\n",
       "    <tr>\n",
       "      <th>max</th>\n",
       "      <td>6.945534e+06</td>\n",
       "      <td>5.919156e+06</td>\n",
       "      <td>8.190966e+05</td>\n",
       "    </tr>\n",
       "  </tbody>\n",
       "</table>\n",
       "</div>"
      ],
      "text/plain": [
       "               id_o       user_id         price\n",
       "count  2.002804e+06  2.002804e+06  2.002804e+06\n",
       "mean   3.968491e+06  2.381755e+06  2.268164e+03\n",
       "std    1.682212e+06  1.633211e+06  3.359283e+03\n",
       "min    1.234491e+06  0.000000e+00 -1.848000e+02\n",
       "25%    2.460856e+06  1.108048e+06  7.672000e+02\n",
       "50%    3.978659e+06  2.028087e+06  1.441300e+03\n",
       "75%    5.391492e+06  3.679133e+06  2.552900e+03\n",
       "max    6.945534e+06  5.919156e+06  8.190966e+05"
      ]
     },
     "execution_count": 9,
     "metadata": {},
     "output_type": "execute_result"
    }
   ],
   "source": [
    "df.describe()"
   ]
  },
  {
   "cell_type": "code",
   "execution_count": 10,
   "metadata": {},
   "outputs": [
    {
     "data": {
      "text/html": [
       "<div>\n",
       "<style scoped>\n",
       "    .dataframe tbody tr th:only-of-type {\n",
       "        vertical-align: middle;\n",
       "    }\n",
       "\n",
       "    .dataframe tbody tr th {\n",
       "        vertical-align: top;\n",
       "    }\n",
       "\n",
       "    .dataframe thead th {\n",
       "        text-align: right;\n",
       "    }\n",
       "</style>\n",
       "<table border=\"1\" class=\"dataframe\">\n",
       "  <thead>\n",
       "    <tr style=\"text-align: right;\">\n",
       "      <th></th>\n",
       "      <th>id_o</th>\n",
       "      <th>user_id</th>\n",
       "      <th>price</th>\n",
       "      <th>o_date</th>\n",
       "    </tr>\n",
       "  </thead>\n",
       "  <tbody>\n",
       "    <tr>\n",
       "      <th>0</th>\n",
       "      <td>1234491</td>\n",
       "      <td>337544</td>\n",
       "      <td>539.0</td>\n",
       "      <td>01.01.2016</td>\n",
       "    </tr>\n",
       "    <tr>\n",
       "      <th>1</th>\n",
       "      <td>1234494</td>\n",
       "      <td>171642</td>\n",
       "      <td>153.3</td>\n",
       "      <td>01.01.2016</td>\n",
       "    </tr>\n",
       "    <tr>\n",
       "      <th>2</th>\n",
       "      <td>1234497</td>\n",
       "      <td>260596</td>\n",
       "      <td>55.3</td>\n",
       "      <td>01.01.2016</td>\n",
       "    </tr>\n",
       "    <tr>\n",
       "      <th>3</th>\n",
       "      <td>1234498</td>\n",
       "      <td>1105609</td>\n",
       "      <td>752.5</td>\n",
       "      <td>01.01.2016</td>\n",
       "    </tr>\n",
       "    <tr>\n",
       "      <th>4</th>\n",
       "      <td>1234500</td>\n",
       "      <td>982696</td>\n",
       "      <td>4410.0</td>\n",
       "      <td>01.01.2016</td>\n",
       "    </tr>\n",
       "  </tbody>\n",
       "</table>\n",
       "</div>"
      ],
      "text/plain": [
       "      id_o  user_id   price      o_date\n",
       "0  1234491   337544   539.0  01.01.2016\n",
       "1  1234494   171642   153.3  01.01.2016\n",
       "2  1234497   260596    55.3  01.01.2016\n",
       "3  1234498  1105609   752.5  01.01.2016\n",
       "4  1234500   982696  4410.0  01.01.2016"
      ]
     },
     "execution_count": 10,
     "metadata": {},
     "output_type": "execute_result"
    }
   ],
   "source": [
    "df.head(5)"
   ]
  },
  {
   "cell_type": "markdown",
   "metadata": {},
   "source": [
    "### 2. Проанализировать, какой период данных выгружен"
   ]
  },
  {
   "cell_type": "code",
   "execution_count": 11,
   "metadata": {},
   "outputs": [
    {
     "data": {
      "text/plain": [
       "('01.01.2016', '31.12.2017')"
      ]
     },
     "execution_count": 11,
     "metadata": {},
     "output_type": "execute_result"
    }
   ],
   "source": [
    "df['o_date'].min(), df['o_date'].max()"
   ]
  },
  {
   "cell_type": "markdown",
   "metadata": {},
   "source": [
    "### 3. Посчитать кол-во строк, кол-во заказов и кол-во уникальных пользователей, кот совершали заказы."
   ]
  },
  {
   "cell_type": "markdown",
   "metadata": {},
   "source": [
    "#### Количество строк"
   ]
  },
  {
   "cell_type": "code",
   "execution_count": 12,
   "metadata": {},
   "outputs": [
    {
     "data": {
      "text/plain": [
       "2002804"
      ]
     },
     "execution_count": 12,
     "metadata": {},
     "output_type": "execute_result"
    }
   ],
   "source": [
    "len(df)"
   ]
  },
  {
   "cell_type": "markdown",
   "metadata": {},
   "source": [
    "#### Количество заказов"
   ]
  },
  {
   "cell_type": "code",
   "execution_count": 13,
   "metadata": {},
   "outputs": [
    {
     "data": {
      "text/plain": [
       "2002804"
      ]
     },
     "execution_count": 13,
     "metadata": {},
     "output_type": "execute_result"
    }
   ],
   "source": [
    "len(df[\"id_o\"].unique())"
   ]
  },
  {
   "cell_type": "markdown",
   "metadata": {},
   "source": [
    "#### Количество уникальных пользователей, которые совершали заказы"
   ]
  },
  {
   "cell_type": "code",
   "execution_count": 14,
   "metadata": {},
   "outputs": [
    {
     "data": {
      "text/plain": [
       "1015119"
      ]
     },
     "execution_count": 14,
     "metadata": {},
     "output_type": "execute_result"
    }
   ],
   "source": [
    "len(df['user_id'].unique())"
   ]
  },
  {
   "cell_type": "markdown",
   "metadata": {},
   "source": [
    "### 4. По годам посчитать средний чек, среднее кол-во заказов на пользователя, сделать вывод , как изменялись эти показатели год от года."
   ]
  },
  {
   "cell_type": "markdown",
   "metadata": {},
   "source": [
    "#### По годам посчитать средний чек"
   ]
  },
  {
   "cell_type": "code",
   "execution_count": 45,
   "metadata": {},
   "outputs": [],
   "source": [
    "mean_price = df.groupby(df['o_date'].dt.year)[['price']].mean().rename(columns={'price': 'mean_price'})"
   ]
  },
  {
   "cell_type": "code",
   "execution_count": 46,
   "metadata": {},
   "outputs": [
    {
     "data": {
      "text/html": [
       "<div>\n",
       "<style scoped>\n",
       "    .dataframe tbody tr th:only-of-type {\n",
       "        vertical-align: middle;\n",
       "    }\n",
       "\n",
       "    .dataframe tbody tr th {\n",
       "        vertical-align: top;\n",
       "    }\n",
       "\n",
       "    .dataframe thead th {\n",
       "        text-align: right;\n",
       "    }\n",
       "</style>\n",
       "<table border=\"1\" class=\"dataframe\">\n",
       "  <thead>\n",
       "    <tr style=\"text-align: right;\">\n",
       "      <th></th>\n",
       "      <th>mean_price</th>\n",
       "    </tr>\n",
       "    <tr>\n",
       "      <th>o_date</th>\n",
       "      <th></th>\n",
       "    </tr>\n",
       "  </thead>\n",
       "  <tbody>\n",
       "    <tr>\n",
       "      <th>2016</th>\n",
       "      <td>2095.583717</td>\n",
       "    </tr>\n",
       "    <tr>\n",
       "      <th>2017</th>\n",
       "      <td>2398.392923</td>\n",
       "    </tr>\n",
       "  </tbody>\n",
       "</table>\n",
       "</div>"
      ],
      "text/plain": [
       "         mean_price\n",
       "o_date             \n",
       "2016    2095.583717\n",
       "2017    2398.392923"
      ]
     },
     "execution_count": 46,
     "metadata": {},
     "output_type": "execute_result"
    }
   ],
   "source": [
    "mean_price"
   ]
  },
  {
   "cell_type": "markdown",
   "metadata": {},
   "source": [
    "#### По годам посчитать среднее количество заказов на пользователя"
   ]
  },
  {
   "cell_type": "code",
   "execution_count": 99,
   "metadata": {},
   "outputs": [
    {
     "name": "stdout",
     "output_type": "stream",
     "text": [
      "{2016: 1.9352089006317794, 2017: 1.74296603725183}\n"
     ]
    }
   ],
   "source": [
    "mean_order_per_user = {}#pd.DataFrame()\n",
    "for year in df['o_date'].dt.year.unique():\n",
    "    df_year = df.loc[(df['o_date'].dt.year == year)]\n",
    "    mean_order_per_user[year] = df_year.groupby('user_id').count()[['id_o']].mean()[0]\n",
    "print(mean_order_per_user)"
   ]
  },
  {
   "cell_type": "markdown",
   "metadata": {},
   "source": [
    "#### Сделать вывод , как изменялись эти показатели год от года."
   ]
  },
  {
   "cell_type": "markdown",
   "metadata": {},
   "source": [
    "Средний чек возрос, однако среднее количество заказов на одного пользователя снизилось. Скорее всего это означает, что пользователи стали делать обращаться в магазин немного реже, но делать более крупные заказы. "
   ]
  },
  {
   "cell_type": "markdown",
   "metadata": {},
   "source": [
    "### 5. Найти кол-во пользователей, кот покупали в одном году и перестали покупать в следующем."
   ]
  },
  {
   "cell_type": "code",
   "execution_count": 101,
   "metadata": {},
   "outputs": [],
   "source": [
    "df_2016 = df.loc[(df['o_date'].dt.year == years[0])]\n",
    "df_2017 = df.loc[(df['o_date'].dt.year == years[1])]"
   ]
  },
  {
   "cell_type": "code",
   "execution_count": 102,
   "metadata": {},
   "outputs": [
    {
     "data": {
      "text/plain": [
       "861346"
      ]
     },
     "execution_count": 102,
     "metadata": {},
     "output_type": "execute_result"
    }
   ],
   "source": [
    "len(df_2016[~df_2016.isin(df_2017)].dropna())"
   ]
  },
  {
   "cell_type": "markdown",
   "metadata": {},
   "source": [
    "### Найти ID самого активного по кол-ву покупок пользователя."
   ]
  },
  {
   "cell_type": "code",
   "execution_count": 114,
   "metadata": {},
   "outputs": [],
   "source": [
    "count_orders = df.groupby('user_id').count()[['id_o']].rename(columns={'id_o': 'count_id_o'})#.max()"
   ]
  },
  {
   "cell_type": "code",
   "execution_count": 105,
   "metadata": {},
   "outputs": [
    {
     "data": {
      "text/plain": [
       "id_o    3183\n",
       "dtype: int64"
      ]
     },
     "execution_count": 105,
     "metadata": {},
     "output_type": "execute_result"
    }
   ],
   "source": [
    "most_active_costumer"
   ]
  },
  {
   "cell_type": "code",
   "execution_count": null,
   "metadata": {},
   "outputs": [],
   "source": [
    "most_active_costumer = count_orders.loc[(count_orders['id_o'].dt.year == year)]"
   ]
  },
  {
   "cell_type": "code",
   "execution_count": 108,
   "metadata": {},
   "outputs": [
    {
     "data": {
      "text/html": [
       "<div>\n",
       "<style scoped>\n",
       "    .dataframe tbody tr th:only-of-type {\n",
       "        vertical-align: middle;\n",
       "    }\n",
       "\n",
       "    .dataframe tbody tr th {\n",
       "        vertical-align: top;\n",
       "    }\n",
       "\n",
       "    .dataframe thead th {\n",
       "        text-align: right;\n",
       "    }\n",
       "</style>\n",
       "<table border=\"1\" class=\"dataframe\">\n",
       "  <thead>\n",
       "    <tr style=\"text-align: right;\">\n",
       "      <th></th>\n",
       "      <th>id_o</th>\n",
       "    </tr>\n",
       "    <tr>\n",
       "      <th>user_id</th>\n",
       "      <th></th>\n",
       "    </tr>\n",
       "  </thead>\n",
       "  <tbody>\n",
       "    <tr>\n",
       "      <th>0</th>\n",
       "      <td>1</td>\n",
       "    </tr>\n",
       "    <tr>\n",
       "      <th>3882447</th>\n",
       "      <td>1</td>\n",
       "    </tr>\n",
       "    <tr>\n",
       "      <th>3882453</th>\n",
       "      <td>1</td>\n",
       "    </tr>\n",
       "    <tr>\n",
       "      <th>3882458</th>\n",
       "      <td>1</td>\n",
       "    </tr>\n",
       "    <tr>\n",
       "      <th>3882461</th>\n",
       "      <td>1</td>\n",
       "    </tr>\n",
       "    <tr>\n",
       "      <th>3882467</th>\n",
       "      <td>1</td>\n",
       "    </tr>\n",
       "    <tr>\n",
       "      <th>3882479</th>\n",
       "      <td>1</td>\n",
       "    </tr>\n",
       "    <tr>\n",
       "      <th>3882495</th>\n",
       "      <td>1</td>\n",
       "    </tr>\n",
       "    <tr>\n",
       "      <th>3882513</th>\n",
       "      <td>1</td>\n",
       "    </tr>\n",
       "    <tr>\n",
       "      <th>3882514</th>\n",
       "      <td>1</td>\n",
       "    </tr>\n",
       "    <tr>\n",
       "      <th>3882526</th>\n",
       "      <td>1</td>\n",
       "    </tr>\n",
       "    <tr>\n",
       "      <th>3882563</th>\n",
       "      <td>1</td>\n",
       "    </tr>\n",
       "    <tr>\n",
       "      <th>3882437</th>\n",
       "      <td>1</td>\n",
       "    </tr>\n",
       "    <tr>\n",
       "      <th>3882574</th>\n",
       "      <td>1</td>\n",
       "    </tr>\n",
       "    <tr>\n",
       "      <th>3882580</th>\n",
       "      <td>1</td>\n",
       "    </tr>\n",
       "    <tr>\n",
       "      <th>3882585</th>\n",
       "      <td>1</td>\n",
       "    </tr>\n",
       "    <tr>\n",
       "      <th>3882611</th>\n",
       "      <td>1</td>\n",
       "    </tr>\n",
       "    <tr>\n",
       "      <th>3882620</th>\n",
       "      <td>1</td>\n",
       "    </tr>\n",
       "    <tr>\n",
       "      <th>3882634</th>\n",
       "      <td>1</td>\n",
       "    </tr>\n",
       "    <tr>\n",
       "      <th>3882640</th>\n",
       "      <td>1</td>\n",
       "    </tr>\n",
       "    <tr>\n",
       "      <th>3882647</th>\n",
       "      <td>1</td>\n",
       "    </tr>\n",
       "    <tr>\n",
       "      <th>3882682</th>\n",
       "      <td>1</td>\n",
       "    </tr>\n",
       "    <tr>\n",
       "      <th>3882689</th>\n",
       "      <td>1</td>\n",
       "    </tr>\n",
       "    <tr>\n",
       "      <th>3882704</th>\n",
       "      <td>1</td>\n",
       "    </tr>\n",
       "    <tr>\n",
       "      <th>3882705</th>\n",
       "      <td>1</td>\n",
       "    </tr>\n",
       "    <tr>\n",
       "      <th>3882578</th>\n",
       "      <td>1</td>\n",
       "    </tr>\n",
       "    <tr>\n",
       "      <th>3882707</th>\n",
       "      <td>1</td>\n",
       "    </tr>\n",
       "    <tr>\n",
       "      <th>3882417</th>\n",
       "      <td>1</td>\n",
       "    </tr>\n",
       "    <tr>\n",
       "      <th>3882400</th>\n",
       "      <td>1</td>\n",
       "    </tr>\n",
       "    <tr>\n",
       "      <th>3882200</th>\n",
       "      <td>1</td>\n",
       "    </tr>\n",
       "    <tr>\n",
       "      <th>...</th>\n",
       "      <td>...</td>\n",
       "    </tr>\n",
       "    <tr>\n",
       "      <th>976002</th>\n",
       "      <td>752</td>\n",
       "    </tr>\n",
       "    <tr>\n",
       "      <th>2114066</th>\n",
       "      <td>771</td>\n",
       "    </tr>\n",
       "    <tr>\n",
       "      <th>125090</th>\n",
       "      <td>783</td>\n",
       "    </tr>\n",
       "    <tr>\n",
       "      <th>11508</th>\n",
       "      <td>886</td>\n",
       "    </tr>\n",
       "    <tr>\n",
       "      <th>155823</th>\n",
       "      <td>917</td>\n",
       "    </tr>\n",
       "    <tr>\n",
       "      <th>420493</th>\n",
       "      <td>933</td>\n",
       "    </tr>\n",
       "    <tr>\n",
       "      <th>3054127</th>\n",
       "      <td>973</td>\n",
       "    </tr>\n",
       "    <tr>\n",
       "      <th>2113842</th>\n",
       "      <td>998</td>\n",
       "    </tr>\n",
       "    <tr>\n",
       "      <th>2113878</th>\n",
       "      <td>1044</td>\n",
       "    </tr>\n",
       "    <tr>\n",
       "      <th>689123</th>\n",
       "      <td>1044</td>\n",
       "    </tr>\n",
       "    <tr>\n",
       "      <th>2113786</th>\n",
       "      <td>1112</td>\n",
       "    </tr>\n",
       "    <tr>\n",
       "      <th>2987887</th>\n",
       "      <td>1129</td>\n",
       "    </tr>\n",
       "    <tr>\n",
       "      <th>2114578</th>\n",
       "      <td>1137</td>\n",
       "    </tr>\n",
       "    <tr>\n",
       "      <th>624937</th>\n",
       "      <td>1142</td>\n",
       "    </tr>\n",
       "    <tr>\n",
       "      <th>741834</th>\n",
       "      <td>1255</td>\n",
       "    </tr>\n",
       "    <tr>\n",
       "      <th>843111</th>\n",
       "      <td>1280</td>\n",
       "    </tr>\n",
       "    <tr>\n",
       "      <th>3136639</th>\n",
       "      <td>1329</td>\n",
       "    </tr>\n",
       "    <tr>\n",
       "      <th>16721</th>\n",
       "      <td>1383</td>\n",
       "    </tr>\n",
       "    <tr>\n",
       "      <th>501073</th>\n",
       "      <td>1499</td>\n",
       "    </tr>\n",
       "    <tr>\n",
       "      <th>797406</th>\n",
       "      <td>1520</td>\n",
       "    </tr>\n",
       "    <tr>\n",
       "      <th>469751</th>\n",
       "      <td>1636</td>\n",
       "    </tr>\n",
       "    <tr>\n",
       "      <th>766000</th>\n",
       "      <td>1689</td>\n",
       "    </tr>\n",
       "    <tr>\n",
       "      <th>518586</th>\n",
       "      <td>1696</td>\n",
       "    </tr>\n",
       "    <tr>\n",
       "      <th>201760</th>\n",
       "      <td>1757</td>\n",
       "    </tr>\n",
       "    <tr>\n",
       "      <th>154900</th>\n",
       "      <td>2023</td>\n",
       "    </tr>\n",
       "    <tr>\n",
       "      <th>53832</th>\n",
       "      <td>2061</td>\n",
       "    </tr>\n",
       "    <tr>\n",
       "      <th>186744</th>\n",
       "      <td>2242</td>\n",
       "    </tr>\n",
       "    <tr>\n",
       "      <th>221047</th>\n",
       "      <td>2347</td>\n",
       "    </tr>\n",
       "    <tr>\n",
       "      <th>39506</th>\n",
       "      <td>2698</td>\n",
       "    </tr>\n",
       "    <tr>\n",
       "      <th>765861</th>\n",
       "      <td>3183</td>\n",
       "    </tr>\n",
       "  </tbody>\n",
       "</table>\n",
       "<p>1015119 rows × 1 columns</p>\n",
       "</div>"
      ],
      "text/plain": [
       "         id_o\n",
       "user_id      \n",
       "0           1\n",
       "3882447     1\n",
       "3882453     1\n",
       "3882458     1\n",
       "3882461     1\n",
       "3882467     1\n",
       "3882479     1\n",
       "3882495     1\n",
       "3882513     1\n",
       "3882514     1\n",
       "3882526     1\n",
       "3882563     1\n",
       "3882437     1\n",
       "3882574     1\n",
       "3882580     1\n",
       "3882585     1\n",
       "3882611     1\n",
       "3882620     1\n",
       "3882634     1\n",
       "3882640     1\n",
       "3882647     1\n",
       "3882682     1\n",
       "3882689     1\n",
       "3882704     1\n",
       "3882705     1\n",
       "3882578     1\n",
       "3882707     1\n",
       "3882417     1\n",
       "3882400     1\n",
       "3882200     1\n",
       "...       ...\n",
       "976002    752\n",
       "2114066   771\n",
       "125090    783\n",
       "11508     886\n",
       "155823    917\n",
       "420493    933\n",
       "3054127   973\n",
       "2113842   998\n",
       "2113878  1044\n",
       "689123   1044\n",
       "2113786  1112\n",
       "2987887  1129\n",
       "2114578  1137\n",
       "624937   1142\n",
       "741834   1255\n",
       "843111   1280\n",
       "3136639  1329\n",
       "16721    1383\n",
       "501073   1499\n",
       "797406   1520\n",
       "469751   1636\n",
       "766000   1689\n",
       "518586   1696\n",
       "201760   1757\n",
       "154900   2023\n",
       "53832    2061\n",
       "186744   2242\n",
       "221047   2347\n",
       "39506    2698\n",
       "765861   3183\n",
       "\n",
       "[1015119 rows x 1 columns]"
      ]
     },
     "execution_count": 108,
     "metadata": {},
     "output_type": "execute_result"
    }
   ],
   "source": [
    "most_active_costumer = df.groupby('user_id').count()[['id_o']]\\\n",
    "                            .sort_values(by='id_o')\n",
    "most_active_costumer"
   ]
  },
  {
   "cell_type": "code",
   "execution_count": null,
   "metadata": {},
   "outputs": [],
   "source": [
    "most_active_costumer = df.groupby('user_id').count()[['id_o']]\\\n",
    "                            .sort_values(by='id_o').tail(1)\n",
    "most_active_costumer = most_active_costumer.index[0]\n",
    "print(f'The most active costumer is {most_active_costumer}.') "
   ]
  },
  {
   "cell_type": "code",
   "execution_count": 115,
   "metadata": {},
   "outputs": [
    {
     "name": "stdout",
     "output_type": "stream",
     "text": [
      "The most active costumer is 765861.\n"
     ]
    }
   ],
   "source": [
    "most_active_costumer = df.groupby('user_id').count()[['id_o']]\\\n",
    "                            .sort_values(by='id_o').tail(1)\n",
    "most_active_costumer = most_active_costumer.index[0]\n",
    "print(f'The most active costumer is {most_active_costumer}.') "
   ]
  }
 ],
 "metadata": {
  "kernelspec": {
   "display_name": "Python 3",
   "language": "python",
   "name": "python3"
  },
  "language_info": {
   "codemirror_mode": {
    "name": "ipython",
    "version": 3
   },
   "file_extension": ".py",
   "mimetype": "text/x-python",
   "name": "python",
   "nbconvert_exporter": "python",
   "pygments_lexer": "ipython3",
   "version": "3.7.1"
  }
 },
 "nbformat": 4,
 "nbformat_minor": 2
}
